{
 "cells": [
  {
   "cell_type": "code",
   "execution_count": 25,
   "metadata": {},
   "outputs": [],
   "source": [
    "import pandas as pd\n",
    "import numpy as np\n",
    "\n",
    "from bs4 import BeautifulSoup\n",
    "import requests\n",
    "from newspaper import Article"
   ]
  },
  {
   "cell_type": "code",
   "execution_count": 2,
   "metadata": {},
   "outputs": [
    {
     "data": {
      "text/html": [
       "<div>\n",
       "<style scoped>\n",
       "    .dataframe tbody tr th:only-of-type {\n",
       "        vertical-align: middle;\n",
       "    }\n",
       "\n",
       "    .dataframe tbody tr th {\n",
       "        vertical-align: top;\n",
       "    }\n",
       "\n",
       "    .dataframe thead th {\n",
       "        text-align: right;\n",
       "    }\n",
       "</style>\n",
       "<table border=\"1\" class=\"dataframe\">\n",
       "  <thead>\n",
       "    <tr style=\"text-align: right;\">\n",
       "      <th></th>\n",
       "      <th>url</th>\n",
       "      <th>timedelta</th>\n",
       "      <th>n_tokens_title</th>\n",
       "      <th>n_tokens_content</th>\n",
       "      <th>n_unique_tokens</th>\n",
       "      <th>n_non_stop_words</th>\n",
       "      <th>n_non_stop_unique_tokens</th>\n",
       "      <th>num_hrefs</th>\n",
       "      <th>num_self_hrefs</th>\n",
       "      <th>num_imgs</th>\n",
       "      <th>...</th>\n",
       "      <th>min_positive_polarity</th>\n",
       "      <th>max_positive_polarity</th>\n",
       "      <th>avg_negative_polarity</th>\n",
       "      <th>min_negative_polarity</th>\n",
       "      <th>max_negative_polarity</th>\n",
       "      <th>title_subjectivity</th>\n",
       "      <th>title_sentiment_polarity</th>\n",
       "      <th>abs_title_subjectivity</th>\n",
       "      <th>abs_title_sentiment_polarity</th>\n",
       "      <th>shares</th>\n",
       "    </tr>\n",
       "  </thead>\n",
       "  <tbody>\n",
       "    <tr>\n",
       "      <td>0</td>\n",
       "      <td>http://mashable.com/2013/01/07/amazon-instant-...</td>\n",
       "      <td>731.0</td>\n",
       "      <td>12.0</td>\n",
       "      <td>219.0</td>\n",
       "      <td>0.663594</td>\n",
       "      <td>1.0</td>\n",
       "      <td>0.815385</td>\n",
       "      <td>4.0</td>\n",
       "      <td>2.0</td>\n",
       "      <td>1.0</td>\n",
       "      <td>...</td>\n",
       "      <td>0.100000</td>\n",
       "      <td>0.7</td>\n",
       "      <td>-0.350000</td>\n",
       "      <td>-0.600</td>\n",
       "      <td>-0.200000</td>\n",
       "      <td>0.500000</td>\n",
       "      <td>-0.187500</td>\n",
       "      <td>0.000000</td>\n",
       "      <td>0.187500</td>\n",
       "      <td>593</td>\n",
       "    </tr>\n",
       "    <tr>\n",
       "      <td>1</td>\n",
       "      <td>http://mashable.com/2013/01/07/ap-samsung-spon...</td>\n",
       "      <td>731.0</td>\n",
       "      <td>9.0</td>\n",
       "      <td>255.0</td>\n",
       "      <td>0.604743</td>\n",
       "      <td>1.0</td>\n",
       "      <td>0.791946</td>\n",
       "      <td>3.0</td>\n",
       "      <td>1.0</td>\n",
       "      <td>1.0</td>\n",
       "      <td>...</td>\n",
       "      <td>0.033333</td>\n",
       "      <td>0.7</td>\n",
       "      <td>-0.118750</td>\n",
       "      <td>-0.125</td>\n",
       "      <td>-0.100000</td>\n",
       "      <td>0.000000</td>\n",
       "      <td>0.000000</td>\n",
       "      <td>0.500000</td>\n",
       "      <td>0.000000</td>\n",
       "      <td>711</td>\n",
       "    </tr>\n",
       "    <tr>\n",
       "      <td>2</td>\n",
       "      <td>http://mashable.com/2013/01/07/apple-40-billio...</td>\n",
       "      <td>731.0</td>\n",
       "      <td>9.0</td>\n",
       "      <td>211.0</td>\n",
       "      <td>0.575130</td>\n",
       "      <td>1.0</td>\n",
       "      <td>0.663866</td>\n",
       "      <td>3.0</td>\n",
       "      <td>1.0</td>\n",
       "      <td>1.0</td>\n",
       "      <td>...</td>\n",
       "      <td>0.100000</td>\n",
       "      <td>1.0</td>\n",
       "      <td>-0.466667</td>\n",
       "      <td>-0.800</td>\n",
       "      <td>-0.133333</td>\n",
       "      <td>0.000000</td>\n",
       "      <td>0.000000</td>\n",
       "      <td>0.500000</td>\n",
       "      <td>0.000000</td>\n",
       "      <td>1500</td>\n",
       "    </tr>\n",
       "    <tr>\n",
       "      <td>3</td>\n",
       "      <td>http://mashable.com/2013/01/07/astronaut-notre...</td>\n",
       "      <td>731.0</td>\n",
       "      <td>9.0</td>\n",
       "      <td>531.0</td>\n",
       "      <td>0.503788</td>\n",
       "      <td>1.0</td>\n",
       "      <td>0.665635</td>\n",
       "      <td>9.0</td>\n",
       "      <td>0.0</td>\n",
       "      <td>1.0</td>\n",
       "      <td>...</td>\n",
       "      <td>0.136364</td>\n",
       "      <td>0.8</td>\n",
       "      <td>-0.369697</td>\n",
       "      <td>-0.600</td>\n",
       "      <td>-0.166667</td>\n",
       "      <td>0.000000</td>\n",
       "      <td>0.000000</td>\n",
       "      <td>0.500000</td>\n",
       "      <td>0.000000</td>\n",
       "      <td>1200</td>\n",
       "    </tr>\n",
       "    <tr>\n",
       "      <td>4</td>\n",
       "      <td>http://mashable.com/2013/01/07/att-u-verse-apps/</td>\n",
       "      <td>731.0</td>\n",
       "      <td>13.0</td>\n",
       "      <td>1072.0</td>\n",
       "      <td>0.415646</td>\n",
       "      <td>1.0</td>\n",
       "      <td>0.540890</td>\n",
       "      <td>19.0</td>\n",
       "      <td>19.0</td>\n",
       "      <td>20.0</td>\n",
       "      <td>...</td>\n",
       "      <td>0.033333</td>\n",
       "      <td>1.0</td>\n",
       "      <td>-0.220192</td>\n",
       "      <td>-0.500</td>\n",
       "      <td>-0.050000</td>\n",
       "      <td>0.454545</td>\n",
       "      <td>0.136364</td>\n",
       "      <td>0.045455</td>\n",
       "      <td>0.136364</td>\n",
       "      <td>505</td>\n",
       "    </tr>\n",
       "  </tbody>\n",
       "</table>\n",
       "<p>5 rows × 61 columns</p>\n",
       "</div>"
      ],
      "text/plain": [
       "                                                 url   timedelta  \\\n",
       "0  http://mashable.com/2013/01/07/amazon-instant-...       731.0   \n",
       "1  http://mashable.com/2013/01/07/ap-samsung-spon...       731.0   \n",
       "2  http://mashable.com/2013/01/07/apple-40-billio...       731.0   \n",
       "3  http://mashable.com/2013/01/07/astronaut-notre...       731.0   \n",
       "4   http://mashable.com/2013/01/07/att-u-verse-apps/       731.0   \n",
       "\n",
       "    n_tokens_title   n_tokens_content   n_unique_tokens   n_non_stop_words  \\\n",
       "0             12.0              219.0          0.663594                1.0   \n",
       "1              9.0              255.0          0.604743                1.0   \n",
       "2              9.0              211.0          0.575130                1.0   \n",
       "3              9.0              531.0          0.503788                1.0   \n",
       "4             13.0             1072.0          0.415646                1.0   \n",
       "\n",
       "    n_non_stop_unique_tokens   num_hrefs   num_self_hrefs   num_imgs  ...  \\\n",
       "0                   0.815385         4.0              2.0        1.0  ...   \n",
       "1                   0.791946         3.0              1.0        1.0  ...   \n",
       "2                   0.663866         3.0              1.0        1.0  ...   \n",
       "3                   0.665635         9.0              0.0        1.0  ...   \n",
       "4                   0.540890        19.0             19.0       20.0  ...   \n",
       "\n",
       "    min_positive_polarity   max_positive_polarity   avg_negative_polarity  \\\n",
       "0                0.100000                     0.7               -0.350000   \n",
       "1                0.033333                     0.7               -0.118750   \n",
       "2                0.100000                     1.0               -0.466667   \n",
       "3                0.136364                     0.8               -0.369697   \n",
       "4                0.033333                     1.0               -0.220192   \n",
       "\n",
       "    min_negative_polarity   max_negative_polarity   title_subjectivity  \\\n",
       "0                  -0.600               -0.200000             0.500000   \n",
       "1                  -0.125               -0.100000             0.000000   \n",
       "2                  -0.800               -0.133333             0.000000   \n",
       "3                  -0.600               -0.166667             0.000000   \n",
       "4                  -0.500               -0.050000             0.454545   \n",
       "\n",
       "    title_sentiment_polarity   abs_title_subjectivity  \\\n",
       "0                  -0.187500                 0.000000   \n",
       "1                   0.000000                 0.500000   \n",
       "2                   0.000000                 0.500000   \n",
       "3                   0.000000                 0.500000   \n",
       "4                   0.136364                 0.045455   \n",
       "\n",
       "    abs_title_sentiment_polarity   shares  \n",
       "0                       0.187500      593  \n",
       "1                       0.000000      711  \n",
       "2                       0.000000     1500  \n",
       "3                       0.000000     1200  \n",
       "4                       0.136364      505  \n",
       "\n",
       "[5 rows x 61 columns]"
      ]
     },
     "execution_count": 2,
     "metadata": {},
     "output_type": "execute_result"
    }
   ],
   "source": [
    "data = pd.read_csv('OnlineNewsPopularity.csv')\n",
    "data.head()"
   ]
  },
  {
   "cell_type": "code",
   "execution_count": 3,
   "metadata": {},
   "outputs": [
    {
     "name": "stdout",
     "output_type": "stream",
     "text": [
      "0    http://mashable.com/2013/01/07/amazon-instant-...\n",
      "1    http://mashable.com/2013/01/07/ap-samsung-spon...\n",
      "2    http://mashable.com/2013/01/07/apple-40-billio...\n",
      "3    http://mashable.com/2013/01/07/astronaut-notre...\n",
      "4     http://mashable.com/2013/01/07/att-u-verse-apps/\n",
      "Name: url, dtype: object\n"
     ]
    }
   ],
   "source": [
    "print (data.url[0:5])"
   ]
  },
  {
   "cell_type": "code",
   "execution_count": 4,
   "metadata": {},
   "outputs": [
    {
     "data": {
      "text/plain": [
       "Index(['url', ' timedelta', ' n_tokens_title', ' n_tokens_content',\n",
       "       ' n_unique_tokens', ' n_non_stop_words', ' n_non_stop_unique_tokens',\n",
       "       ' num_hrefs', ' num_self_hrefs', ' num_imgs', ' num_videos',\n",
       "       ' average_token_length', ' num_keywords', ' data_channel_is_lifestyle',\n",
       "       ' data_channel_is_entertainment', ' data_channel_is_bus',\n",
       "       ' data_channel_is_socmed', ' data_channel_is_tech',\n",
       "       ' data_channel_is_world', ' kw_min_min', ' kw_max_min', ' kw_avg_min',\n",
       "       ' kw_min_max', ' kw_max_max', ' kw_avg_max', ' kw_min_avg',\n",
       "       ' kw_max_avg', ' kw_avg_avg', ' self_reference_min_shares',\n",
       "       ' self_reference_max_shares', ' self_reference_avg_sharess',\n",
       "       ' weekday_is_monday', ' weekday_is_tuesday', ' weekday_is_wednesday',\n",
       "       ' weekday_is_thursday', ' weekday_is_friday', ' weekday_is_saturday',\n",
       "       ' weekday_is_sunday', ' is_weekend', ' LDA_00', ' LDA_01', ' LDA_02',\n",
       "       ' LDA_03', ' LDA_04', ' global_subjectivity',\n",
       "       ' global_sentiment_polarity', ' global_rate_positive_words',\n",
       "       ' global_rate_negative_words', ' rate_positive_words',\n",
       "       ' rate_negative_words', ' avg_positive_polarity',\n",
       "       ' min_positive_polarity', ' max_positive_polarity',\n",
       "       ' avg_negative_polarity', ' min_negative_polarity',\n",
       "       ' max_negative_polarity', ' title_subjectivity',\n",
       "       ' title_sentiment_polarity', ' abs_title_subjectivity',\n",
       "       ' abs_title_sentiment_polarity', ' shares'],\n",
       "      dtype='object')"
      ]
     },
     "execution_count": 4,
     "metadata": {},
     "output_type": "execute_result"
    }
   ],
   "source": [
    "data.columns"
   ]
  },
  {
   "cell_type": "code",
   "execution_count": 5,
   "metadata": {},
   "outputs": [
    {
     "data": {
      "text/plain": [
       "61"
      ]
     },
     "execution_count": 5,
     "metadata": {},
     "output_type": "execute_result"
    }
   ],
   "source": [
    "len(data.columns)"
   ]
  },
  {
   "cell_type": "code",
   "execution_count": 6,
   "metadata": {},
   "outputs": [
    {
     "data": {
      "text/plain": [
       "(39644, 61)"
      ]
     },
     "execution_count": 6,
     "metadata": {},
     "output_type": "execute_result"
    }
   ],
   "source": [
    "data.shape"
   ]
  },
  {
   "cell_type": "code",
   "execution_count": 19,
   "metadata": {},
   "outputs": [
    {
     "ename": "FeatureNotFound",
     "evalue": "Couldn't find a tree builder with the features you requested: html5lib. Do you need to install a parser library?",
     "output_type": "error",
     "traceback": [
      "\u001b[1;31m---------------------------------------------------------------------------\u001b[0m",
      "\u001b[1;31mFeatureNotFound\u001b[0m                           Traceback (most recent call last)",
      "\u001b[1;32m<ipython-input-19-c98b454d3c95>\u001b[0m in \u001b[0;36m<module>\u001b[1;34m\u001b[0m\n\u001b[0;32m      1\u001b[0m \u001b[0mres\u001b[0m \u001b[1;33m=\u001b[0m \u001b[0mrequests\u001b[0m\u001b[1;33m.\u001b[0m\u001b[0mget\u001b[0m\u001b[1;33m(\u001b[0m\u001b[1;34m'https://timesofindia.indiatimes.com'\u001b[0m\u001b[1;33m)\u001b[0m\u001b[1;33m\u001b[0m\u001b[1;33m\u001b[0m\u001b[0m\n\u001b[1;32m----> 2\u001b[1;33m \u001b[0msoup\u001b[0m \u001b[1;33m=\u001b[0m \u001b[0mBeautifulSoup\u001b[0m\u001b[1;33m(\u001b[0m\u001b[0mres\u001b[0m\u001b[1;33m.\u001b[0m\u001b[0mcontent\u001b[0m\u001b[1;33m,\u001b[0m \u001b[1;34m'html5lib'\u001b[0m\u001b[1;33m)\u001b[0m\u001b[1;33m\u001b[0m\u001b[1;33m\u001b[0m\u001b[0m\n\u001b[0m\u001b[0;32m      3\u001b[0m \u001b[0msoup\u001b[0m\u001b[1;33m\u001b[0m\u001b[1;33m\u001b[0m\u001b[0m\n",
      "\u001b[1;32mc:\\users\\jit\\appdata\\local\\programs\\python\\python37\\lib\\site-packages\\bs4\\__init__.py\u001b[0m in \u001b[0;36m__init__\u001b[1;34m(self, markup, features, builder, parse_only, from_encoding, exclude_encodings, element_classes, **kwargs)\u001b[0m\n\u001b[0;32m    226\u001b[0m                     \u001b[1;34m\"Couldn't find a tree builder with the features you \"\u001b[0m\u001b[1;33m\u001b[0m\u001b[1;33m\u001b[0m\u001b[0m\n\u001b[0;32m    227\u001b[0m                     \u001b[1;34m\"requested: %s. Do you need to install a parser library?\"\u001b[0m\u001b[1;33m\u001b[0m\u001b[1;33m\u001b[0m\u001b[0m\n\u001b[1;32m--> 228\u001b[1;33m                     % \",\".join(features))\n\u001b[0m\u001b[0;32m    229\u001b[0m \u001b[1;33m\u001b[0m\u001b[0m\n\u001b[0;32m    230\u001b[0m         \u001b[1;31m# At this point either we have a TreeBuilder instance in\u001b[0m\u001b[1;33m\u001b[0m\u001b[1;33m\u001b[0m\u001b[1;33m\u001b[0m\u001b[0m\n",
      "\u001b[1;31mFeatureNotFound\u001b[0m: Couldn't find a tree builder with the features you requested: html5lib. Do you need to install a parser library?"
     ]
    }
   ],
   "source": [
    "res = requests.get('https://timesofindia.indiatimes.com')\n",
    "soup = BeautifulSoup(res.content, 'html5lib')\n",
    "soup"
   ]
  },
  {
   "cell_type": "code",
   "execution_count": 30,
   "metadata": {},
   "outputs": [
    {
     "data": {
      "text/plain": [
       "[<a class=\"w_img\" href=\"/india/maharashtra-reports-27-covid-19-deaths-highest-in-a-single-day/articleshow/75415921.cms\" pg=\"Election_Section#Story_View/getpos-1-geturl\" title=\"Maharashtra reports 27 Covid-19 deaths, highest in a single day\"><img alt=\"Maharashtra reports 27 Covid-19 deaths, highest in a single day\" data-src=\"https://static.toiimg.com/thumb/msid-75415921,width-500,resizemode-4,imgsize-46983/75415921.jpg\" pg=\"Election_Section#Story_View/getpos-1-geturl\" src=\"https://static.toiimg.com/photo/34824568.cms\"/></a>,\n",
       " <a class=\"w_img\" href=\"https://www.gadgetsnow.com/tech-news/when-a-google-executives-son-praised-zoom-on-a-google-meet-call/articleshow/75399910.cms?utm_source=toiweb&amp;utm_medium=referral&amp;utm_campaign=toiweb_hpwidget\" pg=\"Tech-level0-News_Reviews/level1-News#Story_View-1-geturl\" rel=\"nofollow\" target=\"_blank\" title=\"When a Google executive’s son praised Zoom on a Google Meet call\"><img alt=\"When a Google executive’s son praised Zoom on a Google Meet call\" data-src=\"https://static.toiimg.com/thumb/msid-75399910,width-155,resizemode-4/75399910.jpg\" pg=\"Tech-level0-News_Reviews/level1-News#Story_View-1-geturl\" src=\"https://static.toiimg.com/photo/34824568.cms\"/></a>,\n",
       " <a class=\"w_img\" href=\"https://www.gadgetsnow.com/reviews/samsung-galaxy-m31/articleshow/72510517.cms?utm_source=toiweb&amp;utm_medium=referral&amp;utm_campaign=toiweb_hpwidget\" pg=\"Tech-level0-News_Reviews/level1-Reviews#Story_View-1-geturl\" rel=\"nofollow\" target=\"_blank\" title=\"Samsung Galaxy M31 review: Bang for the buck\"><img alt=\"Samsung Galaxy M31 review: Bang for the buck\" data-src=\"https://static.toiimg.com/thumb/msid-75266453,width-240,resizemode-4/75266453.jpg\" pg=\"Tech-level0-News_Reviews/level1-Reviews#Story_View-1-geturl\" src=\"https://static.toiimg.com/photo/34824568.cms\"/></a>,\n",
       " <a class=\"w_img\" href=\"/life-style/health-fitness/health-news/coronavirus-antibody-tests-can-you-trust-the-results/articleshow/75387833.cms\" pg=\"toihome-msp-amazonwgt-articleclick#Story_View-1-geturl\" target=\"_blank\" title=\"Coronavirus antibody tests: Can you trust the results?\"><img alt=\"Coronavirus antibody tests: Can you trust the results?\" data-src=\"https://static.toiimg.com/thumb/imgsize-151118,msid-75387812,width-150,resizemode-4/75387812.jpg\" pg=\"toihome-msp-amazonwgt-articleclick#Story_View-1-geturl\" src=\"https://static.toiimg.com/photo/34824568.cms\"/></a>,\n",
       " <a class=\"w_img\" href=\"/life-style/health-fitness/health-news/chinese-alzheimers-drug-gets-u-s-approval-for-stateside-trial/articleshow/75387769.cms\" pg=\"toihome-msp-amazonwgt-articleclick#Story_View-2-geturl\" target=\"_blank\" title=\"Chinese alzheimer’s drug gets U.S. approval for stateside trial\"><img alt=\"Chinese alzheimer’s drug gets U.S. approval for stateside trial\" data-src=\"https://static.toiimg.com/thumb/imgsize-504311,msid-75387751,width-150,resizemode-4/75387751.jpg\" pg=\"toihome-msp-amazonwgt-articleclick#Story_View-2-geturl\" src=\"https://static.toiimg.com/photo/34824568.cms\"/></a>,\n",
       " <a class=\"w_img\" href=\"/life-style/health-fitness/health-news/how-should-you-stock-your-medicine-cabinet/articleshow/75387711.cms\" pg=\"toihome-msp-amazonwgt-articleclick#Story_View-3-geturl\" target=\"_blank\" title=\"How should you stock your medicine cabinet?\"><img alt=\"How should you stock your medicine cabinet?\" data-src=\"https://static.toiimg.com/photo/75387711.cms\" pg=\"toihome-msp-amazonwgt-articleclick#Story_View-3-geturl\" src=\"https://static.toiimg.com/photo/34824568.cms\"/></a>,\n",
       " <a class=\"w_img\" href=\"/life-style/health-fitness/health-news/amid-the-coronavirus-crisis-heart-and-stroke-patients-go-missing/articleshow/75387616.cms\" pg=\"toihome-msp-amazonwgt-articleclick#Story_View-4-geturl\" target=\"_blank\" title=\"Amid the coronavirus crisis, heart and stroke patients go missing\"><img alt=\"Amid the coronavirus crisis, heart and stroke patients go missing\" data-src=\"https://static.toiimg.com/photo/75387616.cms\" pg=\"toihome-msp-amazonwgt-articleclick#Story_View-4-geturl\" src=\"https://static.toiimg.com/photo/34824568.cms\"/></a>,\n",
       " <a class=\"w_img\" href=\"/life-style/health-fitness/health-news/the-fear-of-coronavirus-and-flu-colliding-in-the-fall/articleshow/75313413.cms\" pg=\"toihome-msp-amazonwgt-articleclick#Story_View-5-geturl\" target=\"_blank\" title=\"The fear of coronavirus and flu colliding in the fall\"><img alt=\"The fear of coronavirus and flu colliding in the fall\" data-src=\"https://static.toiimg.com/thumb/imgsize-1493908,msid-75313396,width-150,resizemode-4/75313396.jpg\" pg=\"toihome-msp-amazonwgt-articleclick#Story_View-5-geturl\" src=\"https://static.toiimg.com/photo/34824568.cms\"/></a>,\n",
       " <a class=\"w_img\" href=\"https://timesofindia.indiatimes.com/toisa/toisahome.cms\" pg=\"toihome-msp-amazonwgt-articleclick#Story_View-1-geturl\" target=\"_blank\" title=\"Toisa India's largest popular choice sports awards is here\"><img alt=\"Toisa India's largest popular choice sports awards is here\" data-src=\"https://static.toiimg.com/thumb/imgsize-55979,msid-74389250,width-150,resizemode-4/74389250.jpg\" pg=\"toihome-msp-amazonwgt-articleclick#Story_View-1-geturl\" src=\"https://static.toiimg.com/photo/34824568.cms\"/></a>,\n",
       " <a class=\"w_img\" href=\"/life-style/books/features/heres-your-chance-to-write-for-rushdie/articleshow/74001744.cms\" pg=\"toihome-msp-amazonwgt-articleclick#Story_View-2-geturl\" target=\"_blank\" title=\"Write with Salman\"><img alt=\"Write with Salman\" data-src=\"https://static.toiimg.com/thumb/imgsize-889816,msid-74001726,width-150,resizemode-4/74001726.jpg\" pg=\"toihome-msp-amazonwgt-articleclick#Story_View-2-geturl\" src=\"https://static.toiimg.com/photo/34824568.cms\"/></a>,\n",
       " <a class=\"w_img\" href=\"https://www.wattpad.com/myworks/207361108-write-india-entries-for-clare-mackintosh?utm_source=Referral&amp;utm_medium=TOI&amp;utm_campaign=Write_India\" pg=\"toihome-msp-amazonwgt-articleclick#Story_View-3-geturl\" rel=\"nofollow\" target=\"_blank\" title=\"Vote for your favourite Clare Mackintosh story &amp; win exciting prizes every week\"><img alt=\"Vote for your favourite Clare Mackintosh story &amp; win exciting prizes every week\" data-src=\"https://static.toiimg.com/thumb/imgsize-53741,msid-71760260,width-150,resizemode-4/71760260.jpg\" pg=\"toihome-msp-amazonwgt-articleclick#Story_View-3-geturl\" src=\"https://static.toiimg.com/photo/34824568.cms\"/></a>,\n",
       " <a class=\"w_img\" href=\"/life-style/food-news/say-yes-to-healthy-cooking-with-olive-oil/articleshow/73190006.cms\" pg=\"toihome-msp-amazonwgt-articleclick#Story_View-4-geturl\" target=\"_blank\" title=\"Say yes to healthy cooking with olive oil\"><img alt=\"Say yes to healthy cooking with olive oil\" data-src=\"https://static.toiimg.com/photo/73190006.cms\" pg=\"toihome-msp-amazonwgt-articleclick#Story_View-4-geturl\" src=\"https://static.toiimg.com/photo/34824568.cms\"/></a>,\n",
       " <a class=\"w_img\" href=\"/life-style/food-news/popular-indian-breakfast-foods-you-can-spice-up-with-olive-oil/articleshow/73190225.cms\" pg=\"toihome-msp-amazonwgt-articleclick#Story_View-5-geturl\" target=\"_blank\" title=\"Popular Indian breakfast foods you can spice up with olive oil\"><img alt=\"Popular Indian breakfast foods you can spice up with olive oil\" data-src=\"https://static.toiimg.com/photo/73190225.cms\" pg=\"toihome-msp-amazonwgt-articleclick#Story_View-5-geturl\" src=\"https://static.toiimg.com/photo/34824568.cms\"/></a>,\n",
       " <a class=\"w_img\" href=\"/videos/entertainment/hindi/anushka-sharma-leaves-hubby-virat-kohli-blushing-as-she-switches-on-light-during-his-live-chat-with-ab-de-villiers/videoshow/75371601.cms\" pg=\"Videos_RHS-level0-Trending#Video_View-getpos-geturl-1-geturl\" title=\"Anushka Sharma leaves hubby Virat Kohli blushing as she switches on light during his live chat with AB de Villiers\"><img alt=\"Anushka Sharma leaves hubby Virat Kohli blushing as she switches on light during his live chat with AB de Villiers\" data-src=\"https://static.toiimg.com/thumb/imgsize-,msid-75371601,width-320,resizemode-4/75371601.jpg\" pg=\"Videos_RHS-level0-Trending#Video_View-getpos-geturl-1-geturl\" src=\"https://static.toiimg.com/photo/34824568.cms\"/><i class=\"iconvideo\"></i></a>,\n",
       " <a class=\"w_img\" href=\"/videos/entertainment/hindi/hema-malini-waters-plants-at-dharmendras-farmhouse-as-they-spend-time-together-amid-lockdown/videoshow/75301109.cms\" pg=\"Videos_RHS-level0-Trending#Video_View-getpos-geturl-2-geturl\" title=\"Hema Malini waters plants at Dharmendra's farmhouse as they spend time together amid lockdown\"><img alt=\"Hema Malini waters plants at Dharmendra's farmhouse as they spend time together amid lockdown\" data-src=\"https://static.toiimg.com/thumb/imgsize-,msid-75301109,width-320,resizemode-4/75301109.jpg\" pg=\"Videos_RHS-level0-Trending#Video_View-getpos-geturl-2-geturl\" src=\"https://static.toiimg.com/photo/34824568.cms\"/><i class=\"iconvideo\"></i></a>,\n",
       " <a class=\"w_img\" href=\"/videos/entertainment/hindi/akshay-kumar-donates-rs-2-crores-to-mumbai-police-foundation-tweets-we-are-safe-and-alive-because-of-them/videoshow/75416131.cms\" pg=\"Videos_RHS-level0-Entertainment-#Video_View-getpos-geturl-1-geturl\" title=\"Akshay Kumar donates Rs 2 crores to Mumbai Police Foundation, tweets 'we are safe and alive because of them'\"><img alt=\"Akshay Kumar donates Rs 2 crores to Mumbai Police Foundation, tweets 'we are safe and alive because of them'\" data-src=\"https://static.toiimg.com/thumb/imgsize-131433,msid-75416131,width-320,resizemode-4/75416131.jpg\" pg=\"Videos_RHS-level0-Entertainment-#Video_View-getpos-geturl-1-geturl\" src=\"https://static.toiimg.com/photo/34824568.cms\"/><i class=\"iconvideo\"></i></a>,\n",
       " <a class=\"w_img\" href=\"/videos/entertainment/hindi/this-throwback-picture-of-ranbir-kapoor-and-mahira-khan-smoking-on-the-streets-of-nyc-is-going-viral-yet-again/videoshow/75415684.cms\" pg=\"Videos_RHS-level0-Entertainment-#Video_View-getpos-geturl-2-geturl\" title=\"This throwback picture of Ranbir Kapoor and Mahira Khan smoking on the streets of NYC is going viral yet again!\"><img alt=\"This throwback picture of Ranbir Kapoor and Mahira Khan smoking on the streets of NYC is going viral yet again!\" data-src=\"https://static.toiimg.com/thumb/imgsize-123792,msid-75415684,width-320,resizemode-4/75415684.jpg\" pg=\"Videos_RHS-level0-Entertainment-#Video_View-getpos-geturl-2-geturl\" src=\"https://static.toiimg.com/photo/34824568.cms\"/><i class=\"iconvideo\"></i></a>,\n",
       " <a class=\"w_img\" href=\"/videos/entertainment/hindi/kriti-sanon-looks-fresh-as-a-daisy-in-her-latest-selfie/videoshow/75413645.cms\" pg=\"Videos_RHS-level0-Entertainment-#Video_View-3-geturl-6-geturl\" title=\"Kriti Sanon looks fresh as a daisy in her latest selfie\"><img alt=\"Kriti Sanon looks fresh as a daisy in her latest selfie\" data-src=\"https://static.toiimg.com/thumb/imgsize-213965,msid-75413645,width-320,resizemode-4/75413645.jpg\" pg=\"Videos_RHS-level0-Entertainment-#Video_View-3-geturl-6-geturl\" src=\"https://static.toiimg.com/photo/34824568.cms\"/><i class=\"iconvideo\"></i></a>,\n",
       " <a class=\"w_img\" href=\"/videos/beauty-pageants/miss-diva/liva-miss-diva-2020-finalists-at-bennett-university-badminton-challenge/videoshow/74049869.cms\" pg=\"Videos_RHS-level0-Entertainment-#Video_View-4-geturl-1-geturl\" title=\"LIVA Miss Diva 2020 finalists at Bennett University- Badminton Challenge\"><img alt=\"LIVA Miss Diva 2020 finalists at Bennett University- Badminton Challenge\" data-src=\"https://static.toiimg.com/thumb/imgsize-152219,msid-74049869,width-320,resizemode-4/74049869.jpg\" pg=\"Videos_RHS-level0-Entertainment-#Video_View-4-geturl-1-geturl\" src=\"https://static.toiimg.com/photo/34824568.cms\"/><i class=\"iconvideo\"></i></a>,\n",
       " <a class=\"w_img\" href=\"/videos/city/delhi/covid-19-noida-registers-14-new-cases-city-tally-climbs-to-129/videoshow/75410069.cms\" pg=\"Videos_RHS-level0-City-#Video_View-getpos-geturl-1-geturl\" title=\"COVID-19: Noida registers 14 new cases, city tally climbs to 129\"><img alt=\"COVID-19: Noida registers 14 new cases, city tally climbs to 129\" data-src=\"https://static.toiimg.com/thumb/imgsize-259439,msid-75410069,width-320,resizemode-4/75410069.jpg\" pg=\"Videos_RHS-level0-City-#Video_View-getpos-geturl-1-geturl\" src=\"https://static.toiimg.com/photo/34824568.cms\"/><i class=\"iconvideo\"></i></a>,\n",
       " <a class=\"w_img\" href=\"/videos/city/kolkata/west-bengal-hindu-family-arranges-iftar-meals-for-kashmiri-muslims-who-are-stuck-due-to-lockdown/videoshow/75413412.cms\" pg=\"Videos_RHS-level0-City-#Video_View-getpos-geturl-2-geturl\" title=\"West Bengal: Hindu family arranges Iftar meals for Kashmiri Muslims who are stuck due to lockdown\"><img alt=\"West Bengal: Hindu family arranges Iftar meals for Kashmiri Muslims who are stuck due to lockdown\" data-src=\"https://static.toiimg.com/thumb/imgsize-68860,msid-75413412,width-320,resizemode-4/75413412.jpg\" pg=\"Videos_RHS-level0-City-#Video_View-getpos-geturl-2-geturl\" src=\"https://static.toiimg.com/photo/34824568.cms\"/><i class=\"iconvideo\"></i></a>,\n",
       " <a class=\"w_img\" href=\"/videos/news/community-kitchens-feed-hungry-souls-across-faiths/videoshow/75414290.cms\" pg=\"Videos_RHS-level0-News#Video_View-getpos-geturl-1-geturl\" title=\"Community kitchens feed hungry souls across faiths\"><img alt=\"Community kitchens feed hungry souls across faiths\" data-src=\"https://static.toiimg.com/thumb/imgsize-171289,msid-75414290,width-320,resizemode-4/75414290.jpg\" pg=\"Videos_RHS-level0-News#Video_View-getpos-geturl-1-geturl\" src=\"https://static.toiimg.com/photo/34824568.cms\"/><i class=\"iconvideo\"></i></a>,\n",
       " <a class=\"w_img\" href=\"/videos/news/no-fresh-cases-of-coronavirus-reported-in-16-districts-since-last-28-days-health-ministry/videoshow/75414120.cms\" pg=\"Videos_RHS-level0-News#Video_View-getpos-geturl-2-geturl\" title=\"No fresh cases of coronavirus reported in 16 districts since last 28 days: Health Ministry\"><img alt=\"No fresh cases of coronavirus reported in 16 districts since last 28 days: Health Ministry\" data-src=\"https://static.toiimg.com/thumb/imgsize-60982,msid-75414120,width-320,resizemode-4/75414120.jpg\" pg=\"Videos_RHS-level0-News#Video_View-getpos-geturl-2-geturl\" src=\"https://static.toiimg.com/photo/34824568.cms\"/><i class=\"iconvideo\"></i></a>,\n",
       " <a class=\"w_img\" href=\"/videos/sports/other-sports/pistol-shooter-esha-singh-busy-practising-dry-firing-during-lockdown/videoshow/75355793.cms\" pg=\"Videos_RHS-level0-Sports#Video_View-getpos-geturl-1-geturl\" title=\"Pistol shooter Esha Singh busy practising dry firing during lockdown\"><img alt=\"Pistol shooter Esha Singh busy practising dry firing during lockdown\" data-src=\"https://static.toiimg.com/thumb/imgsize-76907,msid-75355793,width-320,resizemode-4/75355793.jpg\" pg=\"Videos_RHS-level0-Sports#Video_View-getpos-geturl-1-geturl\" src=\"https://static.toiimg.com/photo/34824568.cms\"/><i class=\"iconvideo\"></i></a>,\n",
       " <a class=\"w_img\" href=\"/videos/sports/cricket/happy-birthday-sachin-god-of-cricket-turns-47/videoshow/75345041.cms\" pg=\"Videos_RHS-level0-Sports#Video_View-getpos-geturl-2-geturl\" title=\"Happy Birthday Sachin: God of cricket turns 47\"><img alt=\"Happy Birthday Sachin: God of cricket turns 47\" data-src=\"https://static.toiimg.com/thumb/imgsize-150166,msid-75345041,width-320,resizemode-4/75345041.jpg\" pg=\"Videos_RHS-level0-Sports#Video_View-getpos-geturl-2-geturl\" src=\"https://static.toiimg.com/photo/34824568.cms\"/><i class=\"iconvideo\"></i></a>,\n",
       " <a class=\"w_img\" href=\"/videos/tv/hindi/mahira-sharma-speaks-about-paras-chhabra-being-approached-thrice-for-bigg-boss-and-her-struggle/videoshow/75396095.cms\" pg=\"Videos_RHS-level0-TV#Video_View-getpos-geturl-1-geturl\" title=\"Mahira Sharma speaks about Paras Chhabra, being approached thrice for Bigg Boss and her struggle\"><img alt=\"Mahira Sharma speaks about Paras Chhabra, being approached thrice for Bigg Boss and her struggle\" data-src=\"https://static.toiimg.com/thumb/imgsize-332173,msid-75396095,width-320,resizemode-4/75396095.jpg\" pg=\"Videos_RHS-level0-TV#Video_View-getpos-geturl-1-geturl\" src=\"https://static.toiimg.com/photo/34824568.cms\"/><i class=\"iconvideo\"></i></a>,\n",
       " <a class=\"w_img\" href=\"/videos/tv/hindi/niti-taylor-reveals-her-travel-tales-says-she-hasnt-met-her-travel-partner-yet-exclusive/videoshow/75394430.cms\" pg=\"Videos_RHS-level0-TV#Video_View-getpos-geturl-2-geturl\" title=\"Niti Taylor reveals her travel tales; says she hasn't met her travel partner yet |Exclusive|\"><img alt=\"Niti Taylor reveals her travel tales; says she hasn't met her travel partner yet |Exclusive|\" data-src=\"https://static.toiimg.com/thumb/imgsize-829219,msid-75394430,width-320,resizemode-4/75394430.jpg\" pg=\"Videos_RHS-level0-TV#Video_View-getpos-geturl-2-geturl\" src=\"https://static.toiimg.com/photo/34824568.cms\"/><i class=\"iconvideo\"></i></a>,\n",
       " <a class=\"w_img\" href=\"/videos/business/sensex-up-743-points-reliance-gains-10-as-facebook-picks-stake-in-jio/videoshow/75298199.cms\" pg=\"Videos_RHS-level0-Business#Video_View-getpos-geturl-1-geturl\" title=\"Sensex up 743 points, Reliance gains 10% as Facebook picks stake in Jio\"><img alt=\"Sensex up 743 points, Reliance gains 10% as Facebook picks stake in Jio\" data-src=\"https://static.toiimg.com/thumb/imgsize-364888,msid-75298199,width-320,resizemode-4/75298199.jpg\" pg=\"Videos_RHS-level0-Business#Video_View-getpos-geturl-1-geturl\" src=\"https://static.toiimg.com/photo/34824568.cms\"/><i class=\"iconvideo\"></i></a>,\n",
       " <a class=\"w_img\" href=\"/videos/business/sensex-tanks-over-1000-points-as-us-oil-prices-dip-below-zero-dollar-a-barrel/videoshow/75275115.cms\" pg=\"Videos_RHS-level0-Business#Video_View-getpos-geturl-2-geturl\" title=\"Sensex tanks over 1000 points as US oil prices dip below zero dollar a barrel\"><img alt=\"Sensex tanks over 1000 points as US oil prices dip below zero dollar a barrel\" data-src=\"https://static.toiimg.com/thumb/imgsize-446684,msid-75275115,width-320,resizemode-4/75275115.jpg\" pg=\"Videos_RHS-level0-Business#Video_View-getpos-geturl-2-geturl\" src=\"https://static.toiimg.com/photo/34824568.cms\"/><i class=\"iconvideo\"></i></a>,\n",
       " <a class=\"w_img\" href=\"/gadgets-news/ubon-introduces-face-protection-gear-to-fight-covid-19-pandemic/articleshow/75414375.cms\" pg=\"Latest_gadgets_News_BTF_RHS#Story_View-getpos-geturl-1-geturl\" target=\"_blank\" title=\"Ubon introduces face protection gear to fight COVID-19 pandemic\"><img alt=\"Ubon introduces face protection gear to fight COVID-19 pandemic\" data-src=\"https://static.toiimg.com/thumb/imgsize-35505,msid-75414367,width-150,resizemode-4/75414367.jpg\" pg=\"Latest_gadgets_News_BTF_RHS#Story_View-getpos-geturl-1-geturl\" src=\"https://static.toiimg.com/photo/34824568.cms\"/></a>,\n",
       " <a class=\"w_img\" href=\"/gadgets-news/microsoft-fixes-gif-file-bug-that-could-be-used-to-hijack-microsoft-teams-accounts/articleshow/75413333.cms\" pg=\"Latest_gadgets_News_BTF_RHS#Story_View-getpos-geturl-2-geturl\" target=\"_blank\" title=\"Microsoft fixes GIF file bug that could be used to hijack Microsoft Teams accounts\"><img alt=\"Microsoft fixes GIF file bug that could be used to hijack Microsoft Teams accounts\" data-src=\"https://static.toiimg.com/thumb/imgsize-95368,msid-75413325,width-150,resizemode-4/75413325.jpg\" pg=\"Latest_gadgets_News_BTF_RHS#Story_View-getpos-geturl-2-geturl\" src=\"https://static.toiimg.com/photo/34824568.cms\"/></a>,\n",
       " <a class=\"w_img\" href=\"/gadgets-news/microsoft-has-joined-hands-with-coca-cola-heres-why/articleshow/75412792.cms\" pg=\"Latest_gadgets_News_BTF_RHS#Story_View-getpos-geturl-3-geturl\" target=\"_blank\" title=\"Microsoft has joined hands with Coca-Cola, here's why\"><img alt=\"Microsoft has joined hands with Coca-Cola, here's why\" data-src=\"https://static.toiimg.com/thumb/imgsize-20589,msid-75412789,width-150,resizemode-4/75412789.jpg\" pg=\"Latest_gadgets_News_BTF_RHS#Story_View-getpos-geturl-3-geturl\" src=\"https://static.toiimg.com/photo/34824568.cms\"/></a>,\n",
       " <a class=\"w_img\" href=\"/gadgets-news/samsung-galaxy-j2-core-2020-launched-price-specs-and-more/articleshow/75412803.cms\" pg=\"Latest_gadgets_News_BTF_RHS#Story_View-getpos-geturl-4-geturl\" target=\"_blank\" title=\"Samsung Galaxy J2 Core (2020) launched: Price, specs and more\"><img alt=\"Samsung Galaxy J2 Core (2020) launched: Price, specs and more\" data-src=\"https://static.toiimg.com/thumb/imgsize-259708,msid-75412794,width-150,resizemode-4/75412794.jpg\" pg=\"Latest_gadgets_News_BTF_RHS#Story_View-getpos-geturl-4-geturl\" src=\"https://static.toiimg.com/photo/34824568.cms\"/></a>,\n",
       " <a class=\"w_img\" href=\"/gadgets-news/new-leak-claims-lg-velvet-may-replace-its-g-series-smartphones/articleshow/75412772.cms\" pg=\"Latest_gadgets_News_BTF_RHS#Story_View-getpos-geturl-5-geturl\" target=\"_blank\" title=\"New leak claims LG Velvet may replace its G-series smartphones\"><img alt=\"New leak claims LG Velvet may replace its G-series smartphones\" data-src=\"https://static.toiimg.com/thumb/imgsize-45504,msid-75412748,width-150,resizemode-4/75412748.jpg\" pg=\"Latest_gadgets_News_BTF_RHS#Story_View-getpos-geturl-5-geturl\" src=\"https://static.toiimg.com/photo/34824568.cms\"/></a>,\n",
       " <a class=\"w_img\" href=\"https://photogallery.indiatimes.com/celebs/bollywood/unseen-pictures-from-sara-ali-khans-vacation-with-brother-ibrahim-go-viral/Sara-Ali-Khans-new-workout-picture-with-brother-Ibrahim-goes-viral/articleshow/75387209.cms\" pg=\"Photos#Photo_View-position-geturl-16-geturl\" rel=\"nofollow\" target=\"_blank\" title=\"Sara &amp; Ibrahim's new viral picture\"><img alt=\"Sara &amp; Ibrahim's new viral picture\" data-src=\"https://static.toiimg.com/thumb/imgsize-376964,msid-75387499,width-152,resizemode-4/75387499.jpg\" pg=\"Photos#Photo_View-position-geturl-16-geturl\" src=\"https://static.toiimg.com/photo/34824568.cms\"/></a>,\n",
       " <a class=\"w_img\" href=\"https://photogallery.indiatimes.com/celebs/celeb-themes/celebs-in-their-school-uniform/articleshow/75368538.cms\" pg=\"Photos#Photo_View-position-geturl-17-geturl\" rel=\"nofollow\" target=\"_blank\" title=\"Viral school days photos of Deepika\"><img alt=\"Viral school days photos of Deepika\" data-src=\"https://static.toiimg.com/thumb/imgsize-179712,msid-75368913,width-152,resizemode-4/75368913.jpg\" pg=\"Photos#Photo_View-position-geturl-17-geturl\" src=\"https://static.toiimg.com/photo/34824568.cms\"/></a>,\n",
       " <a class=\"w_img\" href=\"https://photogallery.indiatimes.com/celebs/celeb-themes/celebs-in-news/articleshow/75386478.cms\" pg=\"Photos#Photo_View-position-geturl-18-geturl\" rel=\"nofollow\" target=\"_blank\" title=\"A Bat enters into Big B's house\"><img alt=\"A Bat enters into Big B's house\" data-src=\"https://static.toiimg.com/thumb/imgsize-328854,msid-75386774,width-152,resizemode-4/75386774.jpg\" pg=\"Photos#Photo_View-position-geturl-18-geturl\" src=\"https://static.toiimg.com/photo/34824568.cms\"/></a>,\n",
       " <a class=\"w_img\" href=\"https://photogallery.indiatimes.com/celebs/celeb-themes/unseen-pictures-from-priyanka-chopra-and-nick-jonass-lavish-wedding/articleshow/75372242.cms\" pg=\"Photos#Photo_View-position-geturl-19-geturl\" rel=\"nofollow\" target=\"_blank\" title=\"Unseen wedding pics of PC &amp; Nick\"><img alt=\"Unseen wedding pics of PC &amp; Nick\" data-src=\"https://static.toiimg.com/thumb/imgsize-89076,msid-75373097,width-152,resizemode-4/75373097.jpg\" pg=\"Photos#Photo_View-position-geturl-19-geturl\" src=\"https://static.toiimg.com/photo/34824568.cms\"/></a>,\n",
       " <a class=\"w_img\" href=\"/india/indians-watching-more-porn-during-covid-19-lockdown/articleshow/75174935.cms\" pg=\"Infographics#Story_View-position-geturl-1-geturl\" title=\"Indians watching more porn during Covid-19 lockdown\"><img alt=\"Indians watching more porn during Covid-19 lockdown\" data-src=\"https://static.toiimg.com/thumb/imgsize-248849,msid-75174945,width-152,resizemode-4/75174945.jpg\" pg=\"Infographics#Story_View-position-geturl-1-geturl\" src=\"https://static.toiimg.com/photo/34824568.cms\"/></a>,\n",
       " <a class=\"w_img\" href=\"/india/covid-19-3-types-of-masks-you-can-make-at-home/articleshow/75005304.cms\" pg=\"Infographics#Story_View-position-geturl-2-geturl\" title=\"Covid-19: 3 types of masks you can make at home\"><img alt=\"Covid-19: 3 types of masks you can make at home\" data-src=\"https://static.toiimg.com/thumb/imgsize-91043,msid-75005701,width-152,resizemode-4/75005701.jpg\" pg=\"Infographics#Story_View-position-geturl-2-geturl\" src=\"https://static.toiimg.com/photo/34824568.cms\"/></a>,\n",
       " <a class=\"w_img\" href=\"/covid-19-all-you-need-to-know-about-using-a-face-mask/articleshow/75004930.cms\" pg=\"Infographics#Story_View-position-geturl-3-geturl\" title=\"Covid-19: All you need to know about using a face mask\"><img alt=\"Covid-19: All you need to know about using a face mask\" data-src=\"https://static.toiimg.com/thumb/imgsize-581523,msid-75004942,width-152,resizemode-4/75004942.jpg\" pg=\"Infographics#Story_View-position-geturl-3-geturl\" src=\"https://static.toiimg.com/photo/34824568.cms\"/></a>,\n",
       " <a class=\"w_img\" href=\"/business/lockdown-to-hit-malls-residential-reality-the-most/articleshow/74942300.cms\" pg=\"Infographics#Story_View-position-geturl-4-geturl\" title=\"Lockdown to hit malls, residential reality the most\"><img alt=\"Lockdown to hit malls, residential reality the most\" data-src=\"https://static.toiimg.com/thumb/imgsize-50687,msid-74942309,width-152,resizemode-4/74942309.jpg\" pg=\"Infographics#Story_View-position-geturl-4-geturl\" src=\"https://static.toiimg.com/photo/34824568.cms\"/></a>]"
      ]
     },
     "execution_count": 30,
     "metadata": {},
     "output_type": "execute_result"
    }
   ],
   "source": [
    "url = \"https://timesofindia.indiatimes.com/\"\n",
    "r = requests.get(url)\n",
    "soup = BeautifulSoup(r.content, 'lxml') \n",
    "table = soup.findAll('a', attrs = {'class':'w_img'})\n",
    "\n",
    "table"
   ]
  },
  {
   "cell_type": "code",
   "execution_count": 31,
   "metadata": {},
   "outputs": [
    {
     "data": {
      "text/plain": [
       "[<a class=\"w_img\" href=\"/india/maharashtra-reports-27-covid-19-deaths-highest-in-a-single-day/articleshow/75415921.cms\" pg=\"Election_Section#Story_View/getpos-1-geturl\" title=\"Maharashtra reports 27 Covid-19 deaths, highest in a single day\"><img alt=\"Maharashtra reports 27 Covid-19 deaths, highest in a single day\" data-src=\"https://static.toiimg.com/thumb/msid-75415921,width-500,resizemode-4,imgsize-46983/75415921.jpg\" pg=\"Election_Section#Story_View/getpos-1-geturl\" src=\"https://static.toiimg.com/photo/34824568.cms\"/></a>,\n",
       " <a class=\"w_img\" href=\"https://www.gadgetsnow.com/tech-news/when-a-google-executives-son-praised-zoom-on-a-google-meet-call/articleshow/75399910.cms?utm_source=toiweb&amp;utm_medium=referral&amp;utm_campaign=toiweb_hpwidget\" pg=\"Tech-level0-News_Reviews/level1-News#Story_View-1-geturl\" rel=\"nofollow\" target=\"_blank\" title=\"When a Google executive’s son praised Zoom on a Google Meet call\"><img alt=\"When a Google executive’s son praised Zoom on a Google Meet call\" data-src=\"https://static.toiimg.com/thumb/msid-75399910,width-155,resizemode-4/75399910.jpg\" pg=\"Tech-level0-News_Reviews/level1-News#Story_View-1-geturl\" src=\"https://static.toiimg.com/photo/34824568.cms\"/></a>,\n",
       " <a class=\"w_img\" href=\"https://www.gadgetsnow.com/reviews/samsung-galaxy-m31/articleshow/72510517.cms?utm_source=toiweb&amp;utm_medium=referral&amp;utm_campaign=toiweb_hpwidget\" pg=\"Tech-level0-News_Reviews/level1-Reviews#Story_View-1-geturl\" rel=\"nofollow\" target=\"_blank\" title=\"Samsung Galaxy M31 review: Bang for the buck\"><img alt=\"Samsung Galaxy M31 review: Bang for the buck\" data-src=\"https://static.toiimg.com/thumb/msid-75266453,width-240,resizemode-4/75266453.jpg\" pg=\"Tech-level0-News_Reviews/level1-Reviews#Story_View-1-geturl\" src=\"https://static.toiimg.com/photo/34824568.cms\"/></a>,\n",
       " <a class=\"w_img\" href=\"/life-style/health-fitness/health-news/coronavirus-antibody-tests-can-you-trust-the-results/articleshow/75387833.cms\" pg=\"toihome-msp-amazonwgt-articleclick#Story_View-1-geturl\" target=\"_blank\" title=\"Coronavirus antibody tests: Can you trust the results?\"><img alt=\"Coronavirus antibody tests: Can you trust the results?\" data-src=\"https://static.toiimg.com/thumb/imgsize-151118,msid-75387812,width-150,resizemode-4/75387812.jpg\" pg=\"toihome-msp-amazonwgt-articleclick#Story_View-1-geturl\" src=\"https://static.toiimg.com/photo/34824568.cms\"/></a>,\n",
       " <a class=\"w_img\" href=\"/life-style/health-fitness/health-news/chinese-alzheimers-drug-gets-u-s-approval-for-stateside-trial/articleshow/75387769.cms\" pg=\"toihome-msp-amazonwgt-articleclick#Story_View-2-geturl\" target=\"_blank\" title=\"Chinese alzheimer’s drug gets U.S. approval for stateside trial\"><img alt=\"Chinese alzheimer’s drug gets U.S. approval for stateside trial\" data-src=\"https://static.toiimg.com/thumb/imgsize-504311,msid-75387751,width-150,resizemode-4/75387751.jpg\" pg=\"toihome-msp-amazonwgt-articleclick#Story_View-2-geturl\" src=\"https://static.toiimg.com/photo/34824568.cms\"/></a>,\n",
       " <a class=\"w_img\" href=\"/life-style/health-fitness/health-news/how-should-you-stock-your-medicine-cabinet/articleshow/75387711.cms\" pg=\"toihome-msp-amazonwgt-articleclick#Story_View-3-geturl\" target=\"_blank\" title=\"How should you stock your medicine cabinet?\"><img alt=\"How should you stock your medicine cabinet?\" data-src=\"https://static.toiimg.com/photo/75387711.cms\" pg=\"toihome-msp-amazonwgt-articleclick#Story_View-3-geturl\" src=\"https://static.toiimg.com/photo/34824568.cms\"/></a>,\n",
       " <a class=\"w_img\" href=\"/life-style/health-fitness/health-news/amid-the-coronavirus-crisis-heart-and-stroke-patients-go-missing/articleshow/75387616.cms\" pg=\"toihome-msp-amazonwgt-articleclick#Story_View-4-geturl\" target=\"_blank\" title=\"Amid the coronavirus crisis, heart and stroke patients go missing\"><img alt=\"Amid the coronavirus crisis, heart and stroke patients go missing\" data-src=\"https://static.toiimg.com/photo/75387616.cms\" pg=\"toihome-msp-amazonwgt-articleclick#Story_View-4-geturl\" src=\"https://static.toiimg.com/photo/34824568.cms\"/></a>,\n",
       " <a class=\"w_img\" href=\"/life-style/health-fitness/health-news/the-fear-of-coronavirus-and-flu-colliding-in-the-fall/articleshow/75313413.cms\" pg=\"toihome-msp-amazonwgt-articleclick#Story_View-5-geturl\" target=\"_blank\" title=\"The fear of coronavirus and flu colliding in the fall\"><img alt=\"The fear of coronavirus and flu colliding in the fall\" data-src=\"https://static.toiimg.com/thumb/imgsize-1493908,msid-75313396,width-150,resizemode-4/75313396.jpg\" pg=\"toihome-msp-amazonwgt-articleclick#Story_View-5-geturl\" src=\"https://static.toiimg.com/photo/34824568.cms\"/></a>,\n",
       " <a class=\"w_img\" href=\"https://timesofindia.indiatimes.com/toisa/toisahome.cms\" pg=\"toihome-msp-amazonwgt-articleclick#Story_View-1-geturl\" target=\"_blank\" title=\"Toisa India's largest popular choice sports awards is here\"><img alt=\"Toisa India's largest popular choice sports awards is here\" data-src=\"https://static.toiimg.com/thumb/imgsize-55979,msid-74389250,width-150,resizemode-4/74389250.jpg\" pg=\"toihome-msp-amazonwgt-articleclick#Story_View-1-geturl\" src=\"https://static.toiimg.com/photo/34824568.cms\"/></a>,\n",
       " <a class=\"w_img\" href=\"/life-style/books/features/heres-your-chance-to-write-for-rushdie/articleshow/74001744.cms\" pg=\"toihome-msp-amazonwgt-articleclick#Story_View-2-geturl\" target=\"_blank\" title=\"Write with Salman\"><img alt=\"Write with Salman\" data-src=\"https://static.toiimg.com/thumb/imgsize-889816,msid-74001726,width-150,resizemode-4/74001726.jpg\" pg=\"toihome-msp-amazonwgt-articleclick#Story_View-2-geturl\" src=\"https://static.toiimg.com/photo/34824568.cms\"/></a>,\n",
       " <a class=\"w_img\" href=\"https://www.wattpad.com/myworks/207361108-write-india-entries-for-clare-mackintosh?utm_source=Referral&amp;utm_medium=TOI&amp;utm_campaign=Write_India\" pg=\"toihome-msp-amazonwgt-articleclick#Story_View-3-geturl\" rel=\"nofollow\" target=\"_blank\" title=\"Vote for your favourite Clare Mackintosh story &amp; win exciting prizes every week\"><img alt=\"Vote for your favourite Clare Mackintosh story &amp; win exciting prizes every week\" data-src=\"https://static.toiimg.com/thumb/imgsize-53741,msid-71760260,width-150,resizemode-4/71760260.jpg\" pg=\"toihome-msp-amazonwgt-articleclick#Story_View-3-geturl\" src=\"https://static.toiimg.com/photo/34824568.cms\"/></a>,\n",
       " <a class=\"w_img\" href=\"/life-style/food-news/say-yes-to-healthy-cooking-with-olive-oil/articleshow/73190006.cms\" pg=\"toihome-msp-amazonwgt-articleclick#Story_View-4-geturl\" target=\"_blank\" title=\"Say yes to healthy cooking with olive oil\"><img alt=\"Say yes to healthy cooking with olive oil\" data-src=\"https://static.toiimg.com/photo/73190006.cms\" pg=\"toihome-msp-amazonwgt-articleclick#Story_View-4-geturl\" src=\"https://static.toiimg.com/photo/34824568.cms\"/></a>,\n",
       " <a class=\"w_img\" href=\"/life-style/food-news/popular-indian-breakfast-foods-you-can-spice-up-with-olive-oil/articleshow/73190225.cms\" pg=\"toihome-msp-amazonwgt-articleclick#Story_View-5-geturl\" target=\"_blank\" title=\"Popular Indian breakfast foods you can spice up with olive oil\"><img alt=\"Popular Indian breakfast foods you can spice up with olive oil\" data-src=\"https://static.toiimg.com/photo/73190225.cms\" pg=\"toihome-msp-amazonwgt-articleclick#Story_View-5-geturl\" src=\"https://static.toiimg.com/photo/34824568.cms\"/></a>,\n",
       " <a class=\"w_img\" href=\"/videos/entertainment/hindi/anushka-sharma-leaves-hubby-virat-kohli-blushing-as-she-switches-on-light-during-his-live-chat-with-ab-de-villiers/videoshow/75371601.cms\" pg=\"Videos_RHS-level0-Trending#Video_View-getpos-geturl-1-geturl\" title=\"Anushka Sharma leaves hubby Virat Kohli blushing as she switches on light during his live chat with AB de Villiers\"><img alt=\"Anushka Sharma leaves hubby Virat Kohli blushing as she switches on light during his live chat with AB de Villiers\" data-src=\"https://static.toiimg.com/thumb/imgsize-,msid-75371601,width-320,resizemode-4/75371601.jpg\" pg=\"Videos_RHS-level0-Trending#Video_View-getpos-geturl-1-geturl\" src=\"https://static.toiimg.com/photo/34824568.cms\"/><i class=\"iconvideo\"></i></a>,\n",
       " <a class=\"w_img\" href=\"/videos/entertainment/hindi/hema-malini-waters-plants-at-dharmendras-farmhouse-as-they-spend-time-together-amid-lockdown/videoshow/75301109.cms\" pg=\"Videos_RHS-level0-Trending#Video_View-getpos-geturl-2-geturl\" title=\"Hema Malini waters plants at Dharmendra's farmhouse as they spend time together amid lockdown\"><img alt=\"Hema Malini waters plants at Dharmendra's farmhouse as they spend time together amid lockdown\" data-src=\"https://static.toiimg.com/thumb/imgsize-,msid-75301109,width-320,resizemode-4/75301109.jpg\" pg=\"Videos_RHS-level0-Trending#Video_View-getpos-geturl-2-geturl\" src=\"https://static.toiimg.com/photo/34824568.cms\"/><i class=\"iconvideo\"></i></a>,\n",
       " <a class=\"w_img\" href=\"/videos/entertainment/hindi/akshay-kumar-donates-rs-2-crores-to-mumbai-police-foundation-tweets-we-are-safe-and-alive-because-of-them/videoshow/75416131.cms\" pg=\"Videos_RHS-level0-Entertainment-#Video_View-getpos-geturl-1-geturl\" title=\"Akshay Kumar donates Rs 2 crores to Mumbai Police Foundation, tweets 'we are safe and alive because of them'\"><img alt=\"Akshay Kumar donates Rs 2 crores to Mumbai Police Foundation, tweets 'we are safe and alive because of them'\" data-src=\"https://static.toiimg.com/thumb/imgsize-131433,msid-75416131,width-320,resizemode-4/75416131.jpg\" pg=\"Videos_RHS-level0-Entertainment-#Video_View-getpos-geturl-1-geturl\" src=\"https://static.toiimg.com/photo/34824568.cms\"/><i class=\"iconvideo\"></i></a>,\n",
       " <a class=\"w_img\" href=\"/videos/entertainment/hindi/this-throwback-picture-of-ranbir-kapoor-and-mahira-khan-smoking-on-the-streets-of-nyc-is-going-viral-yet-again/videoshow/75415684.cms\" pg=\"Videos_RHS-level0-Entertainment-#Video_View-getpos-geturl-2-geturl\" title=\"This throwback picture of Ranbir Kapoor and Mahira Khan smoking on the streets of NYC is going viral yet again!\"><img alt=\"This throwback picture of Ranbir Kapoor and Mahira Khan smoking on the streets of NYC is going viral yet again!\" data-src=\"https://static.toiimg.com/thumb/imgsize-123792,msid-75415684,width-320,resizemode-4/75415684.jpg\" pg=\"Videos_RHS-level0-Entertainment-#Video_View-getpos-geturl-2-geturl\" src=\"https://static.toiimg.com/photo/34824568.cms\"/><i class=\"iconvideo\"></i></a>,\n",
       " <a class=\"w_img\" href=\"/videos/entertainment/hindi/kriti-sanon-looks-fresh-as-a-daisy-in-her-latest-selfie/videoshow/75413645.cms\" pg=\"Videos_RHS-level0-Entertainment-#Video_View-3-geturl-6-geturl\" title=\"Kriti Sanon looks fresh as a daisy in her latest selfie\"><img alt=\"Kriti Sanon looks fresh as a daisy in her latest selfie\" data-src=\"https://static.toiimg.com/thumb/imgsize-213965,msid-75413645,width-320,resizemode-4/75413645.jpg\" pg=\"Videos_RHS-level0-Entertainment-#Video_View-3-geturl-6-geturl\" src=\"https://static.toiimg.com/photo/34824568.cms\"/><i class=\"iconvideo\"></i></a>,\n",
       " <a class=\"w_img\" href=\"/videos/beauty-pageants/miss-diva/liva-miss-diva-2020-finalists-at-bennett-university-badminton-challenge/videoshow/74049869.cms\" pg=\"Videos_RHS-level0-Entertainment-#Video_View-4-geturl-1-geturl\" title=\"LIVA Miss Diva 2020 finalists at Bennett University- Badminton Challenge\"><img alt=\"LIVA Miss Diva 2020 finalists at Bennett University- Badminton Challenge\" data-src=\"https://static.toiimg.com/thumb/imgsize-152219,msid-74049869,width-320,resizemode-4/74049869.jpg\" pg=\"Videos_RHS-level0-Entertainment-#Video_View-4-geturl-1-geturl\" src=\"https://static.toiimg.com/photo/34824568.cms\"/><i class=\"iconvideo\"></i></a>,\n",
       " <a class=\"w_img\" href=\"/videos/city/delhi/covid-19-noida-registers-14-new-cases-city-tally-climbs-to-129/videoshow/75410069.cms\" pg=\"Videos_RHS-level0-City-#Video_View-getpos-geturl-1-geturl\" title=\"COVID-19: Noida registers 14 new cases, city tally climbs to 129\"><img alt=\"COVID-19: Noida registers 14 new cases, city tally climbs to 129\" data-src=\"https://static.toiimg.com/thumb/imgsize-259439,msid-75410069,width-320,resizemode-4/75410069.jpg\" pg=\"Videos_RHS-level0-City-#Video_View-getpos-geturl-1-geturl\" src=\"https://static.toiimg.com/photo/34824568.cms\"/><i class=\"iconvideo\"></i></a>,\n",
       " <a class=\"w_img\" href=\"/videos/city/kolkata/west-bengal-hindu-family-arranges-iftar-meals-for-kashmiri-muslims-who-are-stuck-due-to-lockdown/videoshow/75413412.cms\" pg=\"Videos_RHS-level0-City-#Video_View-getpos-geturl-2-geturl\" title=\"West Bengal: Hindu family arranges Iftar meals for Kashmiri Muslims who are stuck due to lockdown\"><img alt=\"West Bengal: Hindu family arranges Iftar meals for Kashmiri Muslims who are stuck due to lockdown\" data-src=\"https://static.toiimg.com/thumb/imgsize-68860,msid-75413412,width-320,resizemode-4/75413412.jpg\" pg=\"Videos_RHS-level0-City-#Video_View-getpos-geturl-2-geturl\" src=\"https://static.toiimg.com/photo/34824568.cms\"/><i class=\"iconvideo\"></i></a>,\n",
       " <a class=\"w_img\" href=\"/videos/news/community-kitchens-feed-hungry-souls-across-faiths/videoshow/75414290.cms\" pg=\"Videos_RHS-level0-News#Video_View-getpos-geturl-1-geturl\" title=\"Community kitchens feed hungry souls across faiths\"><img alt=\"Community kitchens feed hungry souls across faiths\" data-src=\"https://static.toiimg.com/thumb/imgsize-171289,msid-75414290,width-320,resizemode-4/75414290.jpg\" pg=\"Videos_RHS-level0-News#Video_View-getpos-geturl-1-geturl\" src=\"https://static.toiimg.com/photo/34824568.cms\"/><i class=\"iconvideo\"></i></a>,\n",
       " <a class=\"w_img\" href=\"/videos/news/no-fresh-cases-of-coronavirus-reported-in-16-districts-since-last-28-days-health-ministry/videoshow/75414120.cms\" pg=\"Videos_RHS-level0-News#Video_View-getpos-geturl-2-geturl\" title=\"No fresh cases of coronavirus reported in 16 districts since last 28 days: Health Ministry\"><img alt=\"No fresh cases of coronavirus reported in 16 districts since last 28 days: Health Ministry\" data-src=\"https://static.toiimg.com/thumb/imgsize-60982,msid-75414120,width-320,resizemode-4/75414120.jpg\" pg=\"Videos_RHS-level0-News#Video_View-getpos-geturl-2-geturl\" src=\"https://static.toiimg.com/photo/34824568.cms\"/><i class=\"iconvideo\"></i></a>,\n",
       " <a class=\"w_img\" href=\"/videos/sports/other-sports/pistol-shooter-esha-singh-busy-practising-dry-firing-during-lockdown/videoshow/75355793.cms\" pg=\"Videos_RHS-level0-Sports#Video_View-getpos-geturl-1-geturl\" title=\"Pistol shooter Esha Singh busy practising dry firing during lockdown\"><img alt=\"Pistol shooter Esha Singh busy practising dry firing during lockdown\" data-src=\"https://static.toiimg.com/thumb/imgsize-76907,msid-75355793,width-320,resizemode-4/75355793.jpg\" pg=\"Videos_RHS-level0-Sports#Video_View-getpos-geturl-1-geturl\" src=\"https://static.toiimg.com/photo/34824568.cms\"/><i class=\"iconvideo\"></i></a>,\n",
       " <a class=\"w_img\" href=\"/videos/sports/cricket/happy-birthday-sachin-god-of-cricket-turns-47/videoshow/75345041.cms\" pg=\"Videos_RHS-level0-Sports#Video_View-getpos-geturl-2-geturl\" title=\"Happy Birthday Sachin: God of cricket turns 47\"><img alt=\"Happy Birthday Sachin: God of cricket turns 47\" data-src=\"https://static.toiimg.com/thumb/imgsize-150166,msid-75345041,width-320,resizemode-4/75345041.jpg\" pg=\"Videos_RHS-level0-Sports#Video_View-getpos-geturl-2-geturl\" src=\"https://static.toiimg.com/photo/34824568.cms\"/><i class=\"iconvideo\"></i></a>,\n",
       " <a class=\"w_img\" href=\"/videos/tv/hindi/mahira-sharma-speaks-about-paras-chhabra-being-approached-thrice-for-bigg-boss-and-her-struggle/videoshow/75396095.cms\" pg=\"Videos_RHS-level0-TV#Video_View-getpos-geturl-1-geturl\" title=\"Mahira Sharma speaks about Paras Chhabra, being approached thrice for Bigg Boss and her struggle\"><img alt=\"Mahira Sharma speaks about Paras Chhabra, being approached thrice for Bigg Boss and her struggle\" data-src=\"https://static.toiimg.com/thumb/imgsize-332173,msid-75396095,width-320,resizemode-4/75396095.jpg\" pg=\"Videos_RHS-level0-TV#Video_View-getpos-geturl-1-geturl\" src=\"https://static.toiimg.com/photo/34824568.cms\"/><i class=\"iconvideo\"></i></a>,\n",
       " <a class=\"w_img\" href=\"/videos/tv/hindi/niti-taylor-reveals-her-travel-tales-says-she-hasnt-met-her-travel-partner-yet-exclusive/videoshow/75394430.cms\" pg=\"Videos_RHS-level0-TV#Video_View-getpos-geturl-2-geturl\" title=\"Niti Taylor reveals her travel tales; says she hasn't met her travel partner yet |Exclusive|\"><img alt=\"Niti Taylor reveals her travel tales; says she hasn't met her travel partner yet |Exclusive|\" data-src=\"https://static.toiimg.com/thumb/imgsize-829219,msid-75394430,width-320,resizemode-4/75394430.jpg\" pg=\"Videos_RHS-level0-TV#Video_View-getpos-geturl-2-geturl\" src=\"https://static.toiimg.com/photo/34824568.cms\"/><i class=\"iconvideo\"></i></a>,\n",
       " <a class=\"w_img\" href=\"/videos/business/sensex-up-743-points-reliance-gains-10-as-facebook-picks-stake-in-jio/videoshow/75298199.cms\" pg=\"Videos_RHS-level0-Business#Video_View-getpos-geturl-1-geturl\" title=\"Sensex up 743 points, Reliance gains 10% as Facebook picks stake in Jio\"><img alt=\"Sensex up 743 points, Reliance gains 10% as Facebook picks stake in Jio\" data-src=\"https://static.toiimg.com/thumb/imgsize-364888,msid-75298199,width-320,resizemode-4/75298199.jpg\" pg=\"Videos_RHS-level0-Business#Video_View-getpos-geturl-1-geturl\" src=\"https://static.toiimg.com/photo/34824568.cms\"/><i class=\"iconvideo\"></i></a>,\n",
       " <a class=\"w_img\" href=\"/videos/business/sensex-tanks-over-1000-points-as-us-oil-prices-dip-below-zero-dollar-a-barrel/videoshow/75275115.cms\" pg=\"Videos_RHS-level0-Business#Video_View-getpos-geturl-2-geturl\" title=\"Sensex tanks over 1000 points as US oil prices dip below zero dollar a barrel\"><img alt=\"Sensex tanks over 1000 points as US oil prices dip below zero dollar a barrel\" data-src=\"https://static.toiimg.com/thumb/imgsize-446684,msid-75275115,width-320,resizemode-4/75275115.jpg\" pg=\"Videos_RHS-level0-Business#Video_View-getpos-geturl-2-geturl\" src=\"https://static.toiimg.com/photo/34824568.cms\"/><i class=\"iconvideo\"></i></a>,\n",
       " <a class=\"w_img\" href=\"/gadgets-news/ubon-introduces-face-protection-gear-to-fight-covid-19-pandemic/articleshow/75414375.cms\" pg=\"Latest_gadgets_News_BTF_RHS#Story_View-getpos-geturl-1-geturl\" target=\"_blank\" title=\"Ubon introduces face protection gear to fight COVID-19 pandemic\"><img alt=\"Ubon introduces face protection gear to fight COVID-19 pandemic\" data-src=\"https://static.toiimg.com/thumb/imgsize-35505,msid-75414367,width-150,resizemode-4/75414367.jpg\" pg=\"Latest_gadgets_News_BTF_RHS#Story_View-getpos-geturl-1-geturl\" src=\"https://static.toiimg.com/photo/34824568.cms\"/></a>,\n",
       " <a class=\"w_img\" href=\"/gadgets-news/microsoft-fixes-gif-file-bug-that-could-be-used-to-hijack-microsoft-teams-accounts/articleshow/75413333.cms\" pg=\"Latest_gadgets_News_BTF_RHS#Story_View-getpos-geturl-2-geturl\" target=\"_blank\" title=\"Microsoft fixes GIF file bug that could be used to hijack Microsoft Teams accounts\"><img alt=\"Microsoft fixes GIF file bug that could be used to hijack Microsoft Teams accounts\" data-src=\"https://static.toiimg.com/thumb/imgsize-95368,msid-75413325,width-150,resizemode-4/75413325.jpg\" pg=\"Latest_gadgets_News_BTF_RHS#Story_View-getpos-geturl-2-geturl\" src=\"https://static.toiimg.com/photo/34824568.cms\"/></a>,\n",
       " <a class=\"w_img\" href=\"/gadgets-news/microsoft-has-joined-hands-with-coca-cola-heres-why/articleshow/75412792.cms\" pg=\"Latest_gadgets_News_BTF_RHS#Story_View-getpos-geturl-3-geturl\" target=\"_blank\" title=\"Microsoft has joined hands with Coca-Cola, here's why\"><img alt=\"Microsoft has joined hands with Coca-Cola, here's why\" data-src=\"https://static.toiimg.com/thumb/imgsize-20589,msid-75412789,width-150,resizemode-4/75412789.jpg\" pg=\"Latest_gadgets_News_BTF_RHS#Story_View-getpos-geturl-3-geturl\" src=\"https://static.toiimg.com/photo/34824568.cms\"/></a>,\n",
       " <a class=\"w_img\" href=\"/gadgets-news/samsung-galaxy-j2-core-2020-launched-price-specs-and-more/articleshow/75412803.cms\" pg=\"Latest_gadgets_News_BTF_RHS#Story_View-getpos-geturl-4-geturl\" target=\"_blank\" title=\"Samsung Galaxy J2 Core (2020) launched: Price, specs and more\"><img alt=\"Samsung Galaxy J2 Core (2020) launched: Price, specs and more\" data-src=\"https://static.toiimg.com/thumb/imgsize-259708,msid-75412794,width-150,resizemode-4/75412794.jpg\" pg=\"Latest_gadgets_News_BTF_RHS#Story_View-getpos-geturl-4-geturl\" src=\"https://static.toiimg.com/photo/34824568.cms\"/></a>,\n",
       " <a class=\"w_img\" href=\"/gadgets-news/new-leak-claims-lg-velvet-may-replace-its-g-series-smartphones/articleshow/75412772.cms\" pg=\"Latest_gadgets_News_BTF_RHS#Story_View-getpos-geturl-5-geturl\" target=\"_blank\" title=\"New leak claims LG Velvet may replace its G-series smartphones\"><img alt=\"New leak claims LG Velvet may replace its G-series smartphones\" data-src=\"https://static.toiimg.com/thumb/imgsize-45504,msid-75412748,width-150,resizemode-4/75412748.jpg\" pg=\"Latest_gadgets_News_BTF_RHS#Story_View-getpos-geturl-5-geturl\" src=\"https://static.toiimg.com/photo/34824568.cms\"/></a>,\n",
       " <a class=\"w_img\" href=\"https://photogallery.indiatimes.com/celebs/bollywood/unseen-pictures-from-sara-ali-khans-vacation-with-brother-ibrahim-go-viral/Sara-Ali-Khans-new-workout-picture-with-brother-Ibrahim-goes-viral/articleshow/75387209.cms\" pg=\"Photos#Photo_View-position-geturl-16-geturl\" rel=\"nofollow\" target=\"_blank\" title=\"Sara &amp; Ibrahim's new viral picture\"><img alt=\"Sara &amp; Ibrahim's new viral picture\" data-src=\"https://static.toiimg.com/thumb/imgsize-376964,msid-75387499,width-152,resizemode-4/75387499.jpg\" pg=\"Photos#Photo_View-position-geturl-16-geturl\" src=\"https://static.toiimg.com/photo/34824568.cms\"/></a>,\n",
       " <a class=\"w_img\" href=\"https://photogallery.indiatimes.com/celebs/celeb-themes/celebs-in-their-school-uniform/articleshow/75368538.cms\" pg=\"Photos#Photo_View-position-geturl-17-geturl\" rel=\"nofollow\" target=\"_blank\" title=\"Viral school days photos of Deepika\"><img alt=\"Viral school days photos of Deepika\" data-src=\"https://static.toiimg.com/thumb/imgsize-179712,msid-75368913,width-152,resizemode-4/75368913.jpg\" pg=\"Photos#Photo_View-position-geturl-17-geturl\" src=\"https://static.toiimg.com/photo/34824568.cms\"/></a>,\n",
       " <a class=\"w_img\" href=\"https://photogallery.indiatimes.com/celebs/celeb-themes/celebs-in-news/articleshow/75386478.cms\" pg=\"Photos#Photo_View-position-geturl-18-geturl\" rel=\"nofollow\" target=\"_blank\" title=\"A Bat enters into Big B's house\"><img alt=\"A Bat enters into Big B's house\" data-src=\"https://static.toiimg.com/thumb/imgsize-328854,msid-75386774,width-152,resizemode-4/75386774.jpg\" pg=\"Photos#Photo_View-position-geturl-18-geturl\" src=\"https://static.toiimg.com/photo/34824568.cms\"/></a>,\n",
       " <a class=\"w_img\" href=\"https://photogallery.indiatimes.com/celebs/celeb-themes/unseen-pictures-from-priyanka-chopra-and-nick-jonass-lavish-wedding/articleshow/75372242.cms\" pg=\"Photos#Photo_View-position-geturl-19-geturl\" rel=\"nofollow\" target=\"_blank\" title=\"Unseen wedding pics of PC &amp; Nick\"><img alt=\"Unseen wedding pics of PC &amp; Nick\" data-src=\"https://static.toiimg.com/thumb/imgsize-89076,msid-75373097,width-152,resizemode-4/75373097.jpg\" pg=\"Photos#Photo_View-position-geturl-19-geturl\" src=\"https://static.toiimg.com/photo/34824568.cms\"/></a>,\n",
       " <a class=\"w_img\" href=\"/india/indians-watching-more-porn-during-covid-19-lockdown/articleshow/75174935.cms\" pg=\"Infographics#Story_View-position-geturl-1-geturl\" title=\"Indians watching more porn during Covid-19 lockdown\"><img alt=\"Indians watching more porn during Covid-19 lockdown\" data-src=\"https://static.toiimg.com/thumb/imgsize-248849,msid-75174945,width-152,resizemode-4/75174945.jpg\" pg=\"Infographics#Story_View-position-geturl-1-geturl\" src=\"https://static.toiimg.com/photo/34824568.cms\"/></a>,\n",
       " <a class=\"w_img\" href=\"/india/covid-19-3-types-of-masks-you-can-make-at-home/articleshow/75005304.cms\" pg=\"Infographics#Story_View-position-geturl-2-geturl\" title=\"Covid-19: 3 types of masks you can make at home\"><img alt=\"Covid-19: 3 types of masks you can make at home\" data-src=\"https://static.toiimg.com/thumb/imgsize-91043,msid-75005701,width-152,resizemode-4/75005701.jpg\" pg=\"Infographics#Story_View-position-geturl-2-geturl\" src=\"https://static.toiimg.com/photo/34824568.cms\"/></a>,\n",
       " <a class=\"w_img\" href=\"/covid-19-all-you-need-to-know-about-using-a-face-mask/articleshow/75004930.cms\" pg=\"Infographics#Story_View-position-geturl-3-geturl\" title=\"Covid-19: All you need to know about using a face mask\"><img alt=\"Covid-19: All you need to know about using a face mask\" data-src=\"https://static.toiimg.com/thumb/imgsize-581523,msid-75004942,width-152,resizemode-4/75004942.jpg\" pg=\"Infographics#Story_View-position-geturl-3-geturl\" src=\"https://static.toiimg.com/photo/34824568.cms\"/></a>,\n",
       " <a class=\"w_img\" href=\"/business/lockdown-to-hit-malls-residential-reality-the-most/articleshow/74942300.cms\" pg=\"Infographics#Story_View-position-geturl-4-geturl\" title=\"Lockdown to hit malls, residential reality the most\"><img alt=\"Lockdown to hit malls, residential reality the most\" data-src=\"https://static.toiimg.com/thumb/imgsize-50687,msid-74942309,width-152,resizemode-4/74942309.jpg\" pg=\"Infographics#Story_View-position-geturl-4-geturl\" src=\"https://static.toiimg.com/photo/34824568.cms\"/></a>]"
      ]
     },
     "execution_count": 31,
     "metadata": {},
     "output_type": "execute_result"
    }
   ],
   "source": [
    "url = \"https://timesofindia.indiatimes.com\"\n",
    "r = requests.get(url)\n",
    "soup = BeautifulSoup(r.content, 'lxml') \n",
    "table = soup.findAll('a', {'class':'w_img'})\n",
    "\n",
    "table"
   ]
  },
  {
   "cell_type": "code",
   "execution_count": 32,
   "metadata": {},
   "outputs": [
    {
     "data": {
      "text/plain": [
       "42"
      ]
     },
     "execution_count": 32,
     "metadata": {},
     "output_type": "execute_result"
    }
   ],
   "source": [
    "len(table)"
   ]
  },
  {
   "cell_type": "code",
   "execution_count": 33,
   "metadata": {},
   "outputs": [],
   "source": [
    "news=[]\n",
    "for row in table: \n",
    "    if not row['href'].startswith('http'):\n",
    "        news.append('https://timesofindia.indiatimes.com'+row['href'])"
   ]
  },
  {
   "cell_type": "code",
   "execution_count": 34,
   "metadata": {},
   "outputs": [],
   "source": [
    "df=[]\n",
    "for i in news:\n",
    "    article = Article(i, language=\"en\")\n",
    "    article.download() \n",
    "    article.parse() \n",
    "    article.nlp() \n",
    "    data={}\n",
    "    data['Title']=article.title\n",
    "    data['Text']=article.text\n",
    "    data['Summary']=article.summary\n",
    "    data['Keywords']=article.keywords\n",
    "    df.append(data)"
   ]
  },
  {
   "cell_type": "code",
   "execution_count": 35,
   "metadata": {},
   "outputs": [
    {
     "data": {
      "text/html": [
       "<div>\n",
       "<style scoped>\n",
       "    .dataframe tbody tr th:only-of-type {\n",
       "        vertical-align: middle;\n",
       "    }\n",
       "\n",
       "    .dataframe tbody tr th {\n",
       "        vertical-align: top;\n",
       "    }\n",
       "\n",
       "    .dataframe thead th {\n",
       "        text-align: right;\n",
       "    }\n",
       "</style>\n",
       "<table border=\"1\" class=\"dataframe\">\n",
       "  <thead>\n",
       "    <tr style=\"text-align: right;\">\n",
       "      <th></th>\n",
       "      <th>Title</th>\n",
       "      <th>Text</th>\n",
       "      <th>Summary</th>\n",
       "      <th>Keywords</th>\n",
       "    </tr>\n",
       "  </thead>\n",
       "  <tbody>\n",
       "    <tr>\n",
       "      <td>0</td>\n",
       "      <td>Maharashtra reports 27 Covid-19 deaths, highes...</td>\n",
       "      <td>Paramedics wearing protective suits amid fears...</td>\n",
       "      <td>Paramedics wearing protective suits amid fears...</td>\n",
       "      <td>[reports, maharashtra, highest, casualties, ca...</td>\n",
       "    </tr>\n",
       "    <tr>\n",
       "      <td>1</td>\n",
       "      <td>Coronavirus antibody tests: Can you trust the ...</td>\n",
       "      <td>The researchers worked around the clock, in sh...</td>\n",
       "      <td>At the least, the finding could greatly compli...</td>\n",
       "      <td>[team, study, dr, test, tests, trust, marson, ...</td>\n",
       "    </tr>\n",
       "    <tr>\n",
       "      <td>2</td>\n",
       "      <td>Chinese alzheimer’s drug gets U.S. approval fo...</td>\n",
       "      <td>A Chinese drugmaker has received approval from...</td>\n",
       "      <td>“It won’t be a success until the drug gets app...</td>\n",
       "      <td>[trials, clinical, drug, approval, gets, chine...</td>\n",
       "    </tr>\n",
       "    <tr>\n",
       "      <td>3</td>\n",
       "      <td>How should you stock your medicine cabinet?</td>\n",
       "      <td>Right now, there is no cure for the coronaviru...</td>\n",
       "      <td>Here is the medicine and equipment they recomm...</td>\n",
       "      <td>[doctor, thermometer, symptoms, pharmacy, cabi...</td>\n",
       "    </tr>\n",
       "    <tr>\n",
       "      <td>4</td>\n",
       "      <td>Amid the coronavirus crisis, heart and stroke ...</td>\n",
       "      <td>Bishnu Virachan was a bicycle deliveryman for ...</td>\n",
       "      <td>“Everywhere, the coronavirus .”After a few day...</td>\n",
       "      <td>[missing, nissen, medical, dr, attack, hospita...</td>\n",
       "    </tr>\n",
       "  </tbody>\n",
       "</table>\n",
       "</div>"
      ],
      "text/plain": [
       "                                               Title  \\\n",
       "0  Maharashtra reports 27 Covid-19 deaths, highes...   \n",
       "1  Coronavirus antibody tests: Can you trust the ...   \n",
       "2  Chinese alzheimer’s drug gets U.S. approval fo...   \n",
       "3        How should you stock your medicine cabinet?   \n",
       "4  Amid the coronavirus crisis, heart and stroke ...   \n",
       "\n",
       "                                                Text  \\\n",
       "0  Paramedics wearing protective suits amid fears...   \n",
       "1  The researchers worked around the clock, in sh...   \n",
       "2  A Chinese drugmaker has received approval from...   \n",
       "3  Right now, there is no cure for the coronaviru...   \n",
       "4  Bishnu Virachan was a bicycle deliveryman for ...   \n",
       "\n",
       "                                             Summary  \\\n",
       "0  Paramedics wearing protective suits amid fears...   \n",
       "1  At the least, the finding could greatly compli...   \n",
       "2  “It won’t be a success until the drug gets app...   \n",
       "3  Here is the medicine and equipment they recomm...   \n",
       "4  “Everywhere, the coronavirus .”After a few day...   \n",
       "\n",
       "                                            Keywords  \n",
       "0  [reports, maharashtra, highest, casualties, ca...  \n",
       "1  [team, study, dr, test, tests, trust, marson, ...  \n",
       "2  [trials, clinical, drug, approval, gets, chine...  \n",
       "3  [doctor, thermometer, symptoms, pharmacy, cabi...  \n",
       "4  [missing, nissen, medical, dr, attack, hospita...  "
      ]
     },
     "execution_count": 35,
     "metadata": {},
     "output_type": "execute_result"
    }
   ],
   "source": [
    "dataset=pd.DataFrame(df)\n",
    "dataset.head()"
   ]
  },
  {
   "cell_type": "code",
   "execution_count": 37,
   "metadata": {},
   "outputs": [
    {
     "data": {
      "text/plain": [
       "0     Maharashtra reports 27 Covid-19 deaths, highes...\n",
       "1     Coronavirus antibody tests: Can you trust the ...\n",
       "2     Chinese alzheimer’s drug gets U.S. approval fo...\n",
       "3           How should you stock your medicine cabinet?\n",
       "4     Amid the coronavirus crisis, heart and stroke ...\n",
       "5     The fear of coronavirus and flu colliding in t...\n",
       "6               Here’s your chance to write for Rushdie\n",
       "7             Say yes to healthy cooking with olive oil\n",
       "8     Popular Indian breakfast foods you can spice u...\n",
       "9     Anushka Sharma leaves hubby Virat Kohli blushi...\n",
       "10    Hema Malini waters plants at Dharmendra's farm...\n",
       "11    Akshay Kumar donates Rs 2 crores to Mumbai Pol...\n",
       "12    This throwback picture of Ranbir Kapoor and Ma...\n",
       "13    Kriti Sanon looks fresh as a daisy in her late...\n",
       "14    LIVA Miss Diva 2020 finalists at Bennett Unive...\n",
       "15    Coronavirus in Noida: Noida registers 14 new c...\n",
       "16    West Bengal: Hindu family arranges Iftar meals...\n",
       "17    Community kitchens feed hungry souls across fa...\n",
       "18    No fresh cases of coronavirus reported in 16 d...\n",
       "19    Pistol shooter Esha Singh busy practising dry ...\n",
       "20       Happy Birthday Sachin: God of cricket turns 47\n",
       "21    Bigg Boss13’s Mahira Sharma on her bond with P...\n",
       "22    Niti Taylor reveals her travel tales; says she...\n",
       "23    Sensex up 743 points, Reliance gains 10% as Fa...\n",
       "24    Sensex tanks over 1000 points as US oil prices...\n",
       "25    face shield: Ubon introduces face protection g...\n",
       "26    Microsoft fixes GIF file bug that could be use...\n",
       "27    Microsoft: Microsoft has joined hands with Coc...\n",
       "28    Galaxy J2 Core Launch: Samsung Galaxy J2 Core ...\n",
       "29    LG Velvet G Series: New leak claims LG Velvet ...\n",
       "30    Infographic: Indians watching more porn during...\n",
       "31    Infographic: Face Mask for Covid 19: 3 types o...\n",
       "32    Homemade Masks: All you need to know about usi...\n",
       "33    Infographic: Lockdown to hit malls, residentia...\n",
       "Name: Title, dtype: object"
      ]
     },
     "execution_count": 37,
     "metadata": {},
     "output_type": "execute_result"
    }
   ],
   "source": [
    "dataset.Title"
   ]
  },
  {
   "cell_type": "code",
   "execution_count": null,
   "metadata": {},
   "outputs": [],
   "source": [
    "url = \"https://www.thehindu.com/\"\n",
    "r = requests.get(url)\n",
    "soup = BeautifulSoup(r.content, 'lxml') \n",
    "table = soup.findAll('a', attrs = {'class':'w_img'})\n",
    "\n",
    "table"
   ]
  }
 ],
 "metadata": {
  "kernelspec": {
   "display_name": "Python 3",
   "language": "python",
   "name": "python3"
  },
  "language_info": {
   "codemirror_mode": {
    "name": "ipython",
    "version": 3
   },
   "file_extension": ".py",
   "mimetype": "text/x-python",
   "name": "python",
   "nbconvert_exporter": "python",
   "pygments_lexer": "ipython3",
   "version": "3.7.3"
  }
 },
 "nbformat": 4,
 "nbformat_minor": 2
}
